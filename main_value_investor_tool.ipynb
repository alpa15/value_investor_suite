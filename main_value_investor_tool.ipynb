{
 "cells": [
  {
   "attachments": {},
   "cell_type": "markdown",
   "metadata": {},
   "source": [
    "# Main 'value_investor_tool'"
   ]
  },
  {
   "attachments": {},
   "cell_type": "markdown",
   "metadata": {},
   "source": [
    "## 'value_investor_tool.ipynb' notebook run"
   ]
  },
  {
   "cell_type": "code",
   "execution_count": null,
   "metadata": {},
   "outputs": [],
   "source": [
    "# The notebook 'value_investor_tool.ipynb' is called and runned\n",
    "\n",
    "%run ./value_investor_tool.ipynb\n",
    "#foo()"
   ]
  },
  {
   "attachments": {},
   "cell_type": "markdown",
   "metadata": {},
   "source": [
    "## Inputs definition"
   ]
  },
  {
   "cell_type": "code",
   "execution_count": null,
   "metadata": {},
   "outputs": [],
   "source": [
    "# INPUT DEFINITION\n",
    "\n",
    "# The available sectors are ['SERVIC', 'FINANC', 'HEALTH', 'TECHNO', 'BASICM',\n",
    "# 'CAPGDS', 'UTILIT', 'ENERGY', 'CYCLIC', 'NONCYC', 'TRANSP', np.nan]\n",
    "sectors = ['SERVIC', 'FINANC', 'HEALTH', 'TECHNO', 'BASICM',\n",
    "    'CAPGDS', 'UTILIT', 'ENERGY', 'CYCLIC', 'NONCYC', 'TRANSP']\n",
    "\n",
    "# The available markets are ['EQUIDUCT', 'NASDAQ', 'EURONEXT', 'NYSE', 'XETRA',\n",
    "# 'SIBE', 'TSX', 'LSE', 'AFF', 'VIRTX', 'AMEX', 'EURONEXTNL', 'HEX', 'EURONEXTP']\n",
    "markets = ['']\n",
    "\n",
    "stats_tf = True #False\n",
    "plot_tf = True #False"
   ]
  },
  {
   "attachments": {},
   "cell_type": "markdown",
   "metadata": {},
   "source": [
    "## Value investor tool"
   ]
  },
  {
   "cell_type": "code",
   "execution_count": null,
   "metadata": {},
   "outputs": [],
   "source": [
    "for sector in sectors:\n",
    "    for market in markets:\n",
    "        value_investor_tool(sector, market, stats_tf, plot_tf)\n",
    "        print(\"\\n\\n///////////////////////////////////////////////////////\" +\n",
    "        \"///////\\n\\n\\n\\n\")\n",
    "\n",
    "## Click on the ... near the 'Outline' button and press 'Export'. Choose the HTML\n",
    "## format and than, after having the HTML file, save it as PDF"
   ]
  }
 ],
 "metadata": {
  "kernelspec": {
   "display_name": "Python 3",
   "language": "python",
   "name": "python3"
  },
  "language_info": {
   "codemirror_mode": {
    "name": "ipython",
    "version": 3
   },
   "file_extension": ".py",
   "mimetype": "text/x-python",
   "name": "python",
   "nbconvert_exporter": "python",
   "pygments_lexer": "ipython3",
   "version": "3.11.2"
  },
  "orig_nbformat": 4,
  "vscode": {
   "interpreter": {
    "hash": "3801cb44072037f35c91fd20cd8037dc14334dccf6f39fea2ceb36dd0dc9f4b3"
   }
  }
 },
 "nbformat": 4,
 "nbformat_minor": 2
}
